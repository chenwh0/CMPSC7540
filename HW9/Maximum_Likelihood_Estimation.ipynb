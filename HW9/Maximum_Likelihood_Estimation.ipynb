{
  "cells": [
    {
      "cell_type": "markdown",
      "source": [
        "## Maximum Likelihood Estimation\n",
        "\n",
        "This notebook assumes the data is a standard continuous normal distribution. The number of random samples, mean, and standard deviation of the distribution can be set in lines 7-9 in code cell 1.\n",
        "\n",
        "The function `gaussian` calculates the negative log likelihood given the random samples and the initial predicted mean and standard deviations defined in initParams.\n",
        "\n",
        "The key to the whole program is the scipy function `minimize`. It is a regular optimization function and more information about it can be found [here](https://docs.scipy.org/doc/scipy/reference/generated/scipy.optimize.minimize.html).\n",
        "\n",
        "**Note:** the method can be a lot of different options, all different mathematical optimization techniques.\n",
        "\n",
        "\n",
        "#### Questions:\n",
        "1. If everything is working, we would expect more accurate $\\mu^*$ and $\\sigma^*$ predictions with more random samples. Think about why this is.\n",
        "2. What happens when the initial parameter guesses are extremely off? What about when they're extremely close? How does this impact the number of samples?\n",
        "3. Break down each line in the `gaussian` function. Knowing what you know about MLE, what do you think the function `stats.norm.logpdf` does?\n",
        "\n",
        "# **RESPONSE**\n",
        "1. $\\mu^*$ and $\\sigma^*$ predictions increase accuracy with more random samples because it is able to sample & learn from a wider set of data, therefore make a better prediction on what the standard deviation and mean is while being resistant to the influence of highly deviating and or the noise from random datapoints.\n",
        "2. If initial parameter guesses are extremely off, it takes more samples to adjust the parameters to more accurate values (model must take more steps/iterations to reach accurate values  since initial value was far from actual so learning is slow). If initial parameter guesses are close to actual parameter values, it takes less samples to adjust the parameters to accurate values (model only needs to take a few steps/iterations to reach accurate values since initial value was already close to actual so learning is fast)\n",
        "3. Code explanations...\n",
        "\n",
        "`mean = params[0]`: Params is a collection type object. Get 1st element in collection which is the input mean value.\n",
        "\n",
        "`sd = params[1]`: Params is a collection type object. Get 2nd element in collection which is the standard deviation value.\n",
        "\n",
        " `-np.sum()`: Most optimization functions e.g. gradient descent, finds the minima, so we take negative natural logarithm so that max likelihood value becomes the minimum value.\n",
        "\n",
        " `stats.norm.logpdf(sample_data, loc=mean, scale=sd)`: Use logarithm of the probability density function (PDF) of a normal distribution. Given each data x=sample_data overlaid with a normal distribution curve that has loc/μ = mean & standard deviation/σ = sd, find likelihood of data on this normal distribution curve.\n",
        "\n",
        "`return nll`: Return negative log likelihood value of `sample_data`"
      ],
      "metadata": {
        "collapsed": false,
        "pycharm": {
          "name": "#%% md\n"
        },
        "id": "37Z_le83g-tM"
      }
    },
    {
      "cell_type": "code",
      "execution_count": null,
      "outputs": [
        {
          "output_type": "stream",
          "name": "stdout",
          "text": [
            "mean*  = -0.065 std*  = 5.485\n",
            "mean   = 0.000 std   = 3.000\n"
          ]
        }
      ],
      "source": [
        "from scipy import stats\n",
        "import numpy as np\n",
        "from scipy.optimize import minimize\n",
        "np.random.seed(1)\n",
        "\n",
        "\n",
        "samples = 1000\n",
        "mu      = 0\n",
        "sigma   = 3\n",
        "\n",
        "\n",
        "#  Take random sample from the distribution of data (normal dist in this case)\n",
        "sample_data = np.random.logistic(loc=mu, scale=sigma, size=samples)\n",
        "\n",
        "def gaussian(params):\n",
        "    mean = params[0]\n",
        "    sd = params[1]\n",
        "\n",
        "    # Calculate negative log likelihood\n",
        "    nll = -np.sum(stats.norm.logpdf(sample_data, loc=mean, scale=sd))\n",
        "\n",
        "    return nll\n",
        "\n",
        "\n",
        "initParams = [1, 1] # Initial guesses\n",
        "\n",
        "results = minimize(gaussian, initParams, method='Nelder-Mead')\n",
        "\n",
        "\n",
        "print('mean*  = {:.3f} std*  = {:.3f}'.format(results.x[0],results.x[1]))\n",
        "print('mean   = {:.3f} std   = {:.3f}'.format(mu, sigma))"
      ],
      "metadata": {
        "pycharm": {
          "name": "#%%\n"
        },
        "colab": {
          "base_uri": "https://localhost:8080/"
        },
        "id": "sJW735s0g-tT",
        "outputId": "38d16589-4ac1-4778-a019-3c6759e2ab44"
      }
    },
    {
      "cell_type": "code",
      "execution_count": null,
      "outputs": [
        {
          "output_type": "display_data",
          "data": {
            "text/plain": [
              "<Figure size 640x480 with 1 Axes>"
            ],
            "image/png": "[encoded data removed]"
          },
          "metadata": {}
        }
      ],
      "source": [
        "import matplotlib.pyplot as plt\n",
        "\n",
        "def logistic_dist(inp, mean, std):\n",
        "    return np.exp(-(inp - mu) / std) / (std * (1 + np.exp(-(inp - mu) / std))**2)\n",
        "\n",
        "x = np.arange(-10, 10, 0.1)\n",
        "y = logistic_dist(x, mu, sigma)\n",
        "\n",
        "num_bins = 20\n",
        "\n",
        "count, bins, ignored = plt.hist(sample_data, bins=num_bins, density=True)\n",
        "plt.plot(bins, 1/(sigma * np.sqrt(2 * np.pi)) * np.exp( - (bins - mu)**2 / (2 * sigma**2) ))\n",
        "plt.show()"
      ],
      "metadata": {
        "pycharm": {
          "name": "#%%\n"
        },
        "colab": {
          "base_uri": "https://localhost:8080/",
          "height": 430
        },
        "id": "wFHuh1Ang-tW",
        "outputId": "e69edd98-b0b5-4371-ce27-7dabf7753217"
      }
    }
  ],
  "metadata": {
    "kernelspec": {
      "display_name": "Python 3",
      "language": "python",
      "name": "python3"
    },
    "language_info": {
      "codemirror_mode": {
        "name": "ipython",
        "version": 2
      },
      "file_extension": ".py",
      "mimetype": "text/x-python",
      "name": "python",
      "nbconvert_exporter": "python",
      "pygments_lexer": "ipython2",
      "version": "2.7.6"
    },
    "colab": {
      "provenance": []
    }
  },
  "nbformat": 4,
  "nbformat_minor": 0
}